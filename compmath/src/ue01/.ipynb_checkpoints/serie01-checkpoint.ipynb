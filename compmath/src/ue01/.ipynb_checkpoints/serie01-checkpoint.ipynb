{
 "cells": [
  {
   "cell_type": "markdown",
   "id": "8db4d6db-7fa5-4975-ad82-03adbe6b6a25",
   "metadata": {},
   "source": [
    "# Serie 01"
   ]
  },
  {
   "cell_type": "markdown",
   "id": "889e32fe-e285-4a8e-a880-5f9064a77890",
   "metadata": {},
   "source": [
    "## Problem 1. Breaking down integers"
   ]
  },
  {
   "cell_type": "code",
   "execution_count": 251,
   "id": "769ead30-236c-4695-a031-7e1af8fa56a8",
   "metadata": {},
   "outputs": [],
   "source": [
    "import math"
   ]
  },
  {
   "cell_type": "markdown",
   "id": "249bec13-2902-4cb8-9941-0fbff4a670d1",
   "metadata": {},
   "source": [
    "### 1a) Implementation"
   ]
  },
  {
   "cell_type": "code",
   "execution_count": 252,
   "id": "b878f7ea-078c-439a-8abf-55e7c6552bdd",
   "metadata": {},
   "outputs": [],
   "source": [
    "def intbreak(n):\n",
    "    return [k+1 for k in range(n)]"
   ]
  },
  {
   "cell_type": "markdown",
   "id": "44b62c44-02fe-4a4a-a487-ba5172dc2385",
   "metadata": {},
   "source": [
    "### 1a) Testing"
   ]
  },
  {
   "cell_type": "code",
   "execution_count": 253,
   "id": "bb95b1b8-0db0-4f1f-975a-aa666154df0f",
   "metadata": {},
   "outputs": [
    {
     "data": {
      "text/plain": [
       "[1, 2, 3, 4, 5, 6, 7, 8, 9, 10]"
      ]
     },
     "execution_count": 253,
     "metadata": {},
     "output_type": "execute_result"
    }
   ],
   "source": [
    "intbreak(10)"
   ]
  },
  {
   "cell_type": "markdown",
   "id": "9f8fa120-8611-43b9-a21b-1a9d73dc67fb",
   "metadata": {},
   "source": [
    "### 2a) Implementation"
   ]
  },
  {
   "cell_type": "code",
   "execution_count": 254,
   "id": "d28fabe2-4f27-4e7a-87de-fa3c63f08346",
   "metadata": {},
   "outputs": [],
   "source": [
    "def reorder(n):\n",
    "    x = [math.floor(n/(10**i))%10 for i in range(math.ceil(math.log(n,10))-1,-1,-1)]\n",
    "    magic = lambda nums : int(''.join(str(i) for i in sorted(x, key = lambda x : x % 2 == 0)))\n",
    "    return magic(x)"
   ]
  },
  {
   "cell_type": "markdown",
   "id": "99f0ff67-a8cd-4f9c-8123-9e3717a81320",
   "metadata": {},
   "source": [
    "### 2a) Testing"
   ]
  },
  {
   "cell_type": "code",
   "execution_count": 255,
   "id": "4d41baf6-bc89-4dd0-876d-42a178e518e2",
   "metadata": {},
   "outputs": [
    {
     "data": {
      "text/plain": [
       "316482"
      ]
     },
     "execution_count": 255,
     "metadata": {},
     "output_type": "execute_result"
    }
   ],
   "source": [
    "reorder(364812)"
   ]
  },
  {
   "cell_type": "markdown",
   "id": "3ecc694e-3574-46a4-b559-2b0acb28104b",
   "metadata": {},
   "source": [
    "## Problem 2. Tuple"
   ]
  },
  {
   "cell_type": "code",
   "execution_count": 259,
   "id": "0fc4db54-bda1-4e9d-b2b7-0b935ece17ca",
   "metadata": {},
   "outputs": [
    {
     "name": "stdout",
     "output_type": "stream",
     "text": [
      "Available Themes: \n",
      "   chesterish\n",
      "   grade3\n",
      "   gruvboxd\n",
      "   gruvboxl\n",
      "   monokai\n",
      "   oceans16\n",
      "   onedork\n",
      "   solarizedd\n",
      "   solarizedl\n"
     ]
    }
   ],
   "source": [
    "!jt -l"
   ]
  },
  {
   "cell_type": "code",
   "execution_count": 260,
   "id": "b178cc2e-8cfe-41b3-9a23-48635200165e",
   "metadata": {},
   "outputs": [],
   "source": [
    "!jt -t chesterish"
   ]
  },
  {
   "cell_type": "code",
   "execution_count": null,
   "id": "7bce026d-4bbf-405a-912d-e0d2190597f1",
   "metadata": {},
   "outputs": [],
   "source": []
  }
 ],
 "metadata": {
  "kernelspec": {
   "display_name": "Python 3 (ipykernel)",
   "language": "python",
   "name": "python3"
  },
  "language_info": {
   "codemirror_mode": {
    "name": "ipython",
    "version": 3
   },
   "file_extension": ".py",
   "mimetype": "text/x-python",
   "name": "python",
   "nbconvert_exporter": "python",
   "pygments_lexer": "ipython3",
   "version": "3.8.8"
  }
 },
 "nbformat": 4,
 "nbformat_minor": 5
}
